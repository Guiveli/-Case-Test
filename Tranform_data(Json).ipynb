{
  "nbformat": 4,
  "nbformat_minor": 0,
  "metadata": {
    "colab": {
      "provenance": []
    },
    "kernelspec": {
      "name": "python3",
      "display_name": "Python 3"
    },
    "language_info": {
      "name": "python"
    }
  },
  "cells": [
    {
      "cell_type": "code",
      "execution_count": 5,
      "metadata": {
        "id": "rOWCOs3-pi3d",
        "colab": {
          "base_uri": "https://localhost:8080/"
        },
        "outputId": "0176f762-2971-4c7f-b07d-c29a8df4cd8e"
      },
      "outputs": [
        {
          "output_type": "stream",
          "name": "stdout",
          "text": [
            "               CreateDate         EmissionDate  Discount  NFeNumber  NFeID  \\\n",
            "0  2021-05-24T20:21:34.79  2021-05-24T00:00:00       0.0        501      1   \n",
            "1  2021-05-24T20:21:34.79  2021-05-24T00:00:00       0.0        502      2   \n",
            "2  2021-05-24T20:21:34.79  2021-05-24T00:00:00       0.0        503      3   \n",
            "\n",
            "                                            ItemList  \n",
            "0  [{'ProductName': 'Rice', 'Value': 35.55, 'Quan...  \n",
            "1  [{'ProductName': 'Tomate', 'Value': 12.25, 'Qu...  \n",
            "2  [{'ProductName': 'Beer', 'Value': 9.0, 'Quanti...  \n"
          ]
        }
      ],
      "source": [
        "import pandas as pd\n",
        "import json\n",
        "\n",
        "# Carregar o arquivo JSON\n",
        "file_path = 'data.json'\n",
        "with open(file_path, 'r') as f:\n",
        "    data = json.load(f)\n",
        "\n",
        "# Transformar em DataFrame\n",
        "df = pd.DataFrame(data)\n",
        "print(df)"
      ]
    },
    {
      "cell_type": "code",
      "source": [
        "# Expandir a coluna ItemList\n",
        "df_expanded = df.explode('ItemList').reset_index(drop=True)\n",
        "print(df_expanded)"
      ],
      "metadata": {
        "colab": {
          "base_uri": "https://localhost:8080/"
        },
        "id": "d30O2jLXsPPD",
        "outputId": "1b5a64db-3e0e-4825-a58d-9d534fa27c19"
      },
      "execution_count": 6,
      "outputs": [
        {
          "output_type": "stream",
          "name": "stdout",
          "text": [
            "               CreateDate         EmissionDate  Discount  NFeNumber  NFeID  \\\n",
            "0  2021-05-24T20:21:34.79  2021-05-24T00:00:00       0.0        501      1   \n",
            "1  2021-05-24T20:21:34.79  2021-05-24T00:00:00       0.0        501      1   \n",
            "2  2021-05-24T20:21:34.79  2021-05-24T00:00:00       0.0        501      1   \n",
            "3  2021-05-24T20:21:34.79  2021-05-24T00:00:00       0.0        502      2   \n",
            "4  2021-05-24T20:21:34.79  2021-05-24T00:00:00       0.0        502      2   \n",
            "5  2021-05-24T20:21:34.79  2021-05-24T00:00:00       0.0        503      3   \n",
            "6  2021-05-24T20:21:34.79  2021-05-24T00:00:00       0.0        503      3   \n",
            "7  2021-05-24T20:21:34.79  2021-05-24T00:00:00       0.0        503      3   \n",
            "\n",
            "                                            ItemList  \n",
            "0  {'ProductName': 'Rice', 'Value': 35.55, 'Quant...  \n",
            "1  {'ProductName': 'Flour', 'Value': 11.55, 'Quan...  \n",
            "2  {'ProductName': 'Bean', 'Value': 27.15, 'Quant...  \n",
            "3  {'ProductName': 'Tomate', 'Value': 12.25, 'Qua...  \n",
            "4  {'ProductName': 'Pasta', 'Value': 7.55, 'Quant...  \n",
            "5  {'ProductName': 'Beer', 'Value': 9.0, 'Quantit...  \n",
            "6  {'ProductName': 'French fries', 'Value': 10.99...  \n",
            "7  {'ProductName': 'Ice cream', 'Value': 27.15, '...  \n"
          ]
        }
      ]
    },
    {
      "cell_type": "code",
      "source": [
        "# Normalizar a coluna ItemList\n",
        "items_df = pd.json_normalize(df_expanded['ItemList'])\n",
        "\n",
        "# Concatenar os dados normais com os itens normalizados\n",
        "result_df = pd.concat([df_expanded.drop(columns=['ItemList']), items_df], axis=1)\n",
        "\n",
        "\n",
        "# Dividir em dois DataFrames\n",
        "general_info_df = df.drop(columns=['ItemList'])\n",
        "item_list_df = pd.json_normalize(\n",
        "    data,\n",
        "    'ItemList',\n",
        "    ['CreateDate', 'EmissionDate', 'Discount', 'NFeNumber', 'NFeID'],\n",
        "    record_prefix='Item_'\n",
        ")\n",
        "# Exibir os DataFrames resultantes\n",
        "print(\"DataFrame geral:\")\n",
        "print(general_info_df)\n",
        "print(\"\\nDataFrame de itens:\")\n",
        "print(item_list_df)"
      ],
      "metadata": {
        "colab": {
          "base_uri": "https://localhost:8080/"
        },
        "id": "o9bCCrHlsUFZ",
        "outputId": "3077464b-10a5-424b-c330-8cfb51af05dc"
      },
      "execution_count": 9,
      "outputs": [
        {
          "output_type": "stream",
          "name": "stdout",
          "text": [
            "DataFrame geral:\n",
            "               CreateDate         EmissionDate  Discount  NFeNumber  NFeID\n",
            "0  2021-05-24T20:21:34.79  2021-05-24T00:00:00       0.0        501      1\n",
            "1  2021-05-24T20:21:34.79  2021-05-24T00:00:00       0.0        502      2\n",
            "2  2021-05-24T20:21:34.79  2021-05-24T00:00:00       0.0        503      3\n",
            "\n",
            "DataFrame de itens:\n",
            "  Item_ProductName  Item_Value  Item_Quantity              CreateDate  \\\n",
            "0             Rice       35.55              2  2021-05-24T20:21:34.79   \n",
            "1            Flour       11.55              5  2021-05-24T20:21:34.79   \n",
            "2             Bean       27.15              7  2021-05-24T20:21:34.79   \n",
            "3           Tomate       12.25             10  2021-05-24T20:21:34.79   \n",
            "4            Pasta        7.55              5  2021-05-24T20:21:34.79   \n",
            "5             Beer        9.00              6  2021-05-24T20:21:34.79   \n",
            "6     French fries       10.99              2  2021-05-24T20:21:34.79   \n",
            "7        Ice cream       27.15              1  2021-05-24T20:21:34.79   \n",
            "\n",
            "          EmissionDate Discount NFeNumber NFeID  \n",
            "0  2021-05-24T00:00:00      0.0       501     1  \n",
            "1  2021-05-24T00:00:00      0.0       501     1  \n",
            "2  2021-05-24T00:00:00      0.0       501     1  \n",
            "3  2021-05-24T00:00:00      0.0       502     2  \n",
            "4  2021-05-24T00:00:00      0.0       502     2  \n",
            "5  2021-05-24T00:00:00      0.0       503     3  \n",
            "6  2021-05-24T00:00:00      0.0       503     3  \n",
            "7  2021-05-24T00:00:00      0.0       503     3  \n"
          ]
        }
      ]
    }
  ]
}